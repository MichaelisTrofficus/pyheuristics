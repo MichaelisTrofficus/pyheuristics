{
 "cells": [
  {
   "cell_type": "markdown",
   "id": "fb566f78",
   "metadata": {},
   "source": [
    "In this notebook we are going to see how to apply `LocalSearch` to an instance of the knapsack problem. This instance is very very simple, but I think it serves as an example.\n",
    "\n",
    "The instance consists of 7 objects, with the `value` (the value of the object) and the `weight` (its weight) represented in the following pandas dataframe. In addition, the maximum capacity of the backpack is `50` and the optimal solution is `107`. "
   ]
  },
  {
   "cell_type": "code",
   "execution_count": 250,
   "id": "2d1dc6db",
   "metadata": {
    "scrolled": true
   },
   "outputs": [
    {
     "data": {
      "text/html": [
       "<div>\n",
       "<style scoped>\n",
       "    .dataframe tbody tr th:only-of-type {\n",
       "        vertical-align: middle;\n",
       "    }\n",
       "\n",
       "    .dataframe tbody tr th {\n",
       "        vertical-align: top;\n",
       "    }\n",
       "\n",
       "    .dataframe thead th {\n",
       "        text-align: right;\n",
       "    }\n",
       "</style>\n",
       "<table border=\"1\" class=\"dataframe\">\n",
       "  <thead>\n",
       "    <tr style=\"text-align: right;\">\n",
       "      <th></th>\n",
       "      <th>value</th>\n",
       "      <th>weight</th>\n",
       "    </tr>\n",
       "  </thead>\n",
       "  <tbody>\n",
       "    <tr>\n",
       "      <th>0</th>\n",
       "      <td>70</td>\n",
       "      <td>31</td>\n",
       "    </tr>\n",
       "    <tr>\n",
       "      <th>1</th>\n",
       "      <td>20</td>\n",
       "      <td>10</td>\n",
       "    </tr>\n",
       "    <tr>\n",
       "      <th>2</th>\n",
       "      <td>39</td>\n",
       "      <td>20</td>\n",
       "    </tr>\n",
       "    <tr>\n",
       "      <th>3</th>\n",
       "      <td>37</td>\n",
       "      <td>19</td>\n",
       "    </tr>\n",
       "    <tr>\n",
       "      <th>4</th>\n",
       "      <td>7</td>\n",
       "      <td>4</td>\n",
       "    </tr>\n",
       "    <tr>\n",
       "      <th>5</th>\n",
       "      <td>5</td>\n",
       "      <td>3</td>\n",
       "    </tr>\n",
       "    <tr>\n",
       "      <th>6</th>\n",
       "      <td>10</td>\n",
       "      <td>6</td>\n",
       "    </tr>\n",
       "  </tbody>\n",
       "</table>\n",
       "</div>"
      ],
      "text/plain": [
       "   value  weight\n",
       "0     70      31\n",
       "1     20      10\n",
       "2     39      20\n",
       "3     37      19\n",
       "4      7       4\n",
       "5      5       3\n",
       "6     10       6"
      ]
     },
     "execution_count": 250,
     "metadata": {},
     "output_type": "execute_result"
    }
   ],
   "source": [
    "import numpy as np\n",
    "import pandas as pd\n",
    "from copy import deepcopy\n",
    "from pyheuristics.combinatorial.trajectory.local_search import LocalSearch\n",
    "\n",
    "df = pd.read_csv(\"./data/knapsack_problem\")\n",
    "df"
   ]
  },
  {
   "cell_type": "markdown",
   "id": "7739ee30",
   "metadata": {},
   "source": [
    "Our goal now is to obtain the optimal solution (if possible) using the `LocalSearch` algorithm. To achieve this, we must define, first of all, the list of values and weights, obtained from the pandas DataFrame."
   ]
  },
  {
   "cell_type": "code",
   "execution_count": 251,
   "id": "2c279c97",
   "metadata": {},
   "outputs": [],
   "source": [
    "LIST_OF_VALUES = df[\"value\"].tolist()\n",
    "LIST_OF_WEIGHTS = df[\"weight\"].tolist()"
   ]
  },
  {
   "cell_type": "code",
   "execution_count": 252,
   "id": "251c8393",
   "metadata": {
    "scrolled": true
   },
   "outputs": [
    {
     "name": "stdout",
     "output_type": "stream",
     "text": [
      "Number of objects: 7\n"
     ]
    }
   ],
   "source": [
    "print(f\"Number of objects: {len(LIST_OF_VALUES)}\")"
   ]
  },
  {
   "cell_type": "markdown",
   "id": "f6b6b5a2",
   "metadata": {},
   "source": [
    "Now, we will create our class `KnapsackProblem` which inherits from `LocalSearch`. This new class must implent both `objective_fn` and `get_neighbors` abstractmethods. \n",
    "\n",
    "`objective_fn` simply receives as input a solution (a string, a graph, an array, whatever you want) and returns a negative float (**remember that pyheuristics minimizes objective functions,so that if we want to maximize one,we simply have to put a negative sign before &#x1F600;**)\n",
    "\n",
    "`get_neighbors` receives as input a solution and returns a list of neighbors, that is, a list of candidate solutions.\n",
    "\n",
    "Our implementation is pretty straightforward. `objective_fn` simply computes the some of the values of the objects that are inside the knapsack. `get_neighbors` is a bit trickier, since we are applying a binomial mask to randomly flip ones to zeroes or viceversa from our solution arrays. "
   ]
  },
  {
   "cell_type": "code",
   "execution_count": 263,
   "id": "bf5afc3a",
   "metadata": {},
   "outputs": [],
   "source": [
    "class KnapsackProblem(LocalSearch):\n",
    "    \"\"\"\n",
    "    Implementation of Knapsack problem as in Wikipedia example: https://en.wikipedia.org/wiki/Knapsack_problem\n",
    "    \"\"\"\n",
    "    TOTAL_CAPACITY = 50\n",
    "\n",
    "    # We treat each solution as an array of booleans. 1 means the object is inside the knapsack, 0 that it isn't\n",
    "\n",
    "    def objective_fn(self, sol):\n",
    "        \"\"\"\n",
    "        Computes the total value of all the objects inside the knapsack\n",
    "        \"\"\"\n",
    "        total_value = 0\n",
    "        for index, in_bag in enumerate(sol):\n",
    "            total_value += LIST_OF_VALUES[index] * in_bag\n",
    "        return -total_value\n",
    "\n",
    "    def get_total_weight(self, sol):\n",
    "        total_weight = 0\n",
    "        for index, in_bag in enumerate(sol):\n",
    "            total_weight += LIST_OF_WEIGHTS[index] * in_bag\n",
    "        return total_weight\n",
    "\n",
    "    def get_neighbors(self, sol):\n",
    "        \"\"\"\n",
    "        For example, perform a permutation in each element of the array\n",
    "        \"\"\"\n",
    "        neighbors = []\n",
    "        \n",
    "        for i in range(20):\n",
    "            neighbor = deepcopy(sol)\n",
    "            \n",
    "            mask = np.random.binomial(1, 0.2, size=(len(LIST_OF_VALUES))).astype('bool')\n",
    "            neighbor[mask] += 1\n",
    "            neighbor[mask] %= 2\n",
    "            \n",
    "            if self.get_total_weight(neighbor) <= self.TOTAL_CAPACITY:\n",
    "                neighbors.append(neighbor)\n",
    "        return neighbors"
   ]
  },
  {
   "cell_type": "markdown",
   "id": "b0522068",
   "metadata": {},
   "source": [
    "Generate an initial solution that only has one object inside the knapsack (the one that has a value of 37). This solution is valid (it does not exceed the 50 maximum capacity limit)."
   ]
  },
  {
   "cell_type": "code",
   "execution_count": 264,
   "id": "11343c91",
   "metadata": {},
   "outputs": [],
   "source": [
    "init_sol = np.array([0, 0, 0, 1, 0, 0, 0])"
   ]
  },
  {
   "cell_type": "code",
   "execution_count": 265,
   "id": "95f983b2",
   "metadata": {
    "scrolled": true
   },
   "outputs": [
    {
     "data": {
      "text/plain": [
       "array([0, 0, 0, 1, 0, 0, 0])"
      ]
     },
     "execution_count": 265,
     "metadata": {},
     "output_type": "execute_result"
    }
   ],
   "source": [
    "init_sol"
   ]
  },
  {
   "cell_type": "markdown",
   "id": "2ff254ef",
   "metadata": {},
   "source": [
    "Now, instantiate the class with the defaults (`first` search strategy)."
   ]
  },
  {
   "cell_type": "code",
   "execution_count": 258,
   "id": "32a2d2d6",
   "metadata": {},
   "outputs": [],
   "source": [
    "knapsack = KnapsackProblem(init_sol=init_sol)"
   ]
  },
  {
   "cell_type": "code",
   "execution_count": 259,
   "id": "7983a950",
   "metadata": {},
   "outputs": [
    {
     "name": "stdout",
     "output_type": "stream",
     "text": [
      "Current solution cost: -76 | Best solution cost: -76\n",
      "Current solution cost: -80 | Best solution cost: -80\n",
      "Current solution cost: -92 | Best solution cost: -92\n",
      "Current solution cost: -105 | Best solution cost: -105\n"
     ]
    }
   ],
   "source": [
    "result = knapsack.search(max_iter=100, history=True, verbose=1)"
   ]
  },
  {
   "cell_type": "code",
   "execution_count": 261,
   "id": "2a0a9113",
   "metadata": {},
   "outputs": [
    {
     "data": {
      "text/plain": [
       "ExecutionResult(sol=array([1, 1, 0, 0, 0, 1, 1]), cost=-105, history=[-76, -80, -92, -105])"
      ]
     },
     "execution_count": 261,
     "metadata": {},
     "output_type": "execute_result"
    }
   ],
   "source": [
    "result"
   ]
  },
  {
   "cell_type": "code",
   "execution_count": 260,
   "id": "803d999d",
   "metadata": {},
   "outputs": [
    {
     "data": {
      "text/plain": [
       "[<matplotlib.lines.Line2D at 0x11fba5a30>]"
      ]
     },
     "execution_count": 260,
     "metadata": {},
     "output_type": "execute_result"
    },
    {
     "data": {
      "image/png": "[encoded data removed]",
      "text/plain": [
       "<Figure size 640x480 with 1 Axes>"
      ]
     },
     "metadata": {},
     "output_type": "display_data"
    }
   ],
   "source": [
    "plt.plot(result.history)"
   ]
  },
  {
   "cell_type": "markdown",
   "id": "f3ac9c96",
   "metadata": {},
   "source": [
    "`LocalSearch` has achieved a minimum of -105 (a maximum of 105). Close, but not the optimum. If we search our strategy to `best`, we can see that the algorithm finds the optimum in the first iteration."
   ]
  },
  {
   "cell_type": "code",
   "execution_count": 266,
   "id": "1048e2b6",
   "metadata": {},
   "outputs": [
    {
     "name": "stdout",
     "output_type": "stream",
     "text": [
      "Current solution cost: -107 | Best solution cost: -107\n"
     ]
    }
   ],
   "source": [
    "knapsack = KnapsackProblem(init_sol=init_sol, improve_strategy=\"best\")\n",
    "result = knapsack.search(max_iter=100, history=True, verbose=1)"
   ]
  },
  {
   "cell_type": "code",
   "execution_count": 267,
   "id": "848364ac",
   "metadata": {
    "scrolled": true
   },
   "outputs": [
    {
     "data": {
      "text/plain": [
       "ExecutionResult(sol=array([1, 0, 0, 1, 0, 0, 0]), cost=-107, history=[-107])"
      ]
     },
     "execution_count": 267,
     "metadata": {},
     "output_type": "execute_result"
    }
   ],
   "source": [
    "result"
   ]
  },
  {
   "cell_type": "markdown",
   "id": "33e34932",
   "metadata": {},
   "source": [
    "This is not surprising, because we generate 20 neighbors at a time and the instance is very simple. We would not be so lucky for more complex instances. For that we need more advanced algorithms than this simple local search."
   ]
  }
 ],
 "metadata": {
  "kernelspec": {
   "display_name": "Python 3 (ipykernel)",
   "language": "python",
   "name": "python3"
  },
  "language_info": {
   "codemirror_mode": {
    "name": "ipython",
    "version": 3
   },
   "file_extension": ".py",
   "mimetype": "text/x-python",
   "name": "python",
   "nbconvert_exporter": "python",
   "pygments_lexer": "ipython3",
   "version": "3.9.13"
  }
 },
 "nbformat": 4,
 "nbformat_minor": 5
}
