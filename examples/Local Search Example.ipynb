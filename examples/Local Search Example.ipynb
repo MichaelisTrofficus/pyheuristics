{
 "cells": [
  {
   "cell_type": "markdown",
   "id": "813cb7db",
   "metadata": {},
   "source": [
    "In this notebook we are going to see how to apply `LocalSearch` to an instance of the knapsack problem. This instance is very very simple, but I think it serves as an example.\n",
    "\n",
    "The instance consists of 7 objects, with the `value` (the value of the object) and the `weight` (its weight) represented in the following pandas dataframe. In addition, the maximum capacity of the backpack is `50` and the optimal solution is `107`. "
   ]
  },
  {
   "cell_type": "code",
   "execution_count": 24,
   "id": "9a9301b0",
   "metadata": {
    "scrolled": true
   },
   "outputs": [
    {
     "data": {
      "text/html": [
       "<div>\n",
       "<style scoped>\n",
       "    .dataframe tbody tr th:only-of-type {\n",
       "        vertical-align: middle;\n",
       "    }\n",
       "\n",
       "    .dataframe tbody tr th {\n",
       "        vertical-align: top;\n",
       "    }\n",
       "\n",
       "    .dataframe thead th {\n",
       "        text-align: right;\n",
       "    }\n",
       "</style>\n",
       "<table border=\"1\" class=\"dataframe\">\n",
       "  <thead>\n",
       "    <tr style=\"text-align: right;\">\n",
       "      <th></th>\n",
       "      <th>value</th>\n",
       "      <th>weight</th>\n",
       "    </tr>\n",
       "  </thead>\n",
       "  <tbody>\n",
       "    <tr>\n",
       "      <th>0</th>\n",
       "      <td>70</td>\n",
       "      <td>31</td>\n",
       "    </tr>\n",
       "    <tr>\n",
       "      <th>1</th>\n",
       "      <td>20</td>\n",
       "      <td>10</td>\n",
       "    </tr>\n",
       "    <tr>\n",
       "      <th>2</th>\n",
       "      <td>39</td>\n",
       "      <td>20</td>\n",
       "    </tr>\n",
       "    <tr>\n",
       "      <th>3</th>\n",
       "      <td>37</td>\n",
       "      <td>19</td>\n",
       "    </tr>\n",
       "    <tr>\n",
       "      <th>4</th>\n",
       "      <td>7</td>\n",
       "      <td>4</td>\n",
       "    </tr>\n",
       "    <tr>\n",
       "      <th>5</th>\n",
       "      <td>5</td>\n",
       "      <td>3</td>\n",
       "    </tr>\n",
       "    <tr>\n",
       "      <th>6</th>\n",
       "      <td>10</td>\n",
       "      <td>6</td>\n",
       "    </tr>\n",
       "  </tbody>\n",
       "</table>\n",
       "</div>"
      ],
      "text/plain": [
       "   value  weight\n",
       "0     70      31\n",
       "1     20      10\n",
       "2     39      20\n",
       "3     37      19\n",
       "4      7       4\n",
       "5      5       3\n",
       "6     10       6"
      ]
     },
     "execution_count": 24,
     "metadata": {},
     "output_type": "execute_result"
    }
   ],
   "source": [
    "import numpy as np\n",
    "import pandas as pd\n",
    "from copy import deepcopy\n",
    "import matplotlib.pyplot as plt\n",
    "\n",
    "from pyheuristics.combinatorial.trajectory.local_search import LocalSearch\n",
    "from pyheuristics.combinatorial.utils.search_strategies import best_strategy, first_strategy\n",
    "\n",
    "df = pd.read_csv(\"./data/knapsack_problem\")\n",
    "df"
   ]
  },
  {
   "cell_type": "markdown",
   "id": "a00eb301",
   "metadata": {},
   "source": [
    "Our goal now is to obtain the optimal solution (if possible) using the `LocalSearch` algorithm. To achieve this, we must define, first of all, the list of values and weights, obtained from the pandas DataFrame."
   ]
  },
  {
   "cell_type": "code",
   "execution_count": 25,
   "id": "ebbf9290",
   "metadata": {},
   "outputs": [],
   "source": [
    "LIST_OF_VALUES = df[\"value\"].tolist()\n",
    "LIST_OF_WEIGHTS = df[\"weight\"].tolist()"
   ]
  },
  {
   "cell_type": "code",
   "execution_count": 26,
   "id": "1b1d7c42",
   "metadata": {
    "scrolled": true
   },
   "outputs": [
    {
     "name": "stdout",
     "output_type": "stream",
     "text": [
      "Number of objects: 7\n"
     ]
    }
   ],
   "source": [
    "print(f\"Number of objects: {len(LIST_OF_VALUES)}\")"
   ]
  },
  {
   "cell_type": "markdown",
   "id": "322759c4",
   "metadata": {},
   "source": [
    "Now, we will create our class `KnapsackProblem` which inherits from `LocalSearch`. This new class must implent both `objective_fn` and `get_neighbors` abstractmethods. \n",
    "\n",
    "`objective_fn` simply receives as input a solution (a string, a graph, an array, whatever you want) and returns a negative float (**remember that pyheuristics minimizes objective functions,so that if we want to maximize one,we simply have to put a negative sign before &#x1F600;**)\n",
    "\n",
    "`get_neighbors` receives as input a solution and returns a list of neighbors, that is, a list of candidate solutions.\n",
    "\n",
    "Our implementation is pretty straightforward. `objective_fn` simply computes the some of the values of the objects that are inside the knapsack. `get_neighbors` is a bit trickier, since we are applying a binomial mask to randomly flip ones to zeroes or viceversa from our solution arrays. "
   ]
  },
  {
   "cell_type": "code",
   "execution_count": 27,
   "id": "08b81aee",
   "metadata": {},
   "outputs": [],
   "source": [
    "class KnapsackProblem(LocalSearch):\n",
    "    \"\"\"\n",
    "    Implementation of Knapsack problem as in Wikipedia example: https://en.wikipedia.org/wiki/Knapsack_problem\n",
    "    \"\"\"\n",
    "    TOTAL_CAPACITY = 50\n",
    "\n",
    "    # We treat each solution as an array of booleans. 1 means the object is inside the knapsack, 0 that it isn't\n",
    "\n",
    "    def fn(self, sol):\n",
    "        total_value = 0\n",
    "        for index, in_bag in enumerate(sol):\n",
    "            total_value += LIST_OF_VALUES[index] * in_bag\n",
    "        return -total_value\n",
    "\n",
    "    def get_total_weight(self, sol):\n",
    "        total_weight = 0\n",
    "        for index, in_bag in enumerate(sol):\n",
    "            total_weight += LIST_OF_WEIGHTS[index] * in_bag\n",
    "        return total_weight\n",
    "\n",
    "    def move(self):\n",
    "        neighbors = []\n",
    "        \n",
    "        for i in range(10):\n",
    "            neighbor = deepcopy(self.sol)\n",
    "            \n",
    "            mask = np.random.binomial(1, 0.2, size=(len(LIST_OF_VALUES))).astype('bool')\n",
    "            neighbor[mask] += 1\n",
    "            neighbor[mask] %= 2\n",
    "            \n",
    "            if self.get_total_weight(neighbor) <= self.TOTAL_CAPACITY:\n",
    "                neighbors.append(neighbor)\n",
    "                \n",
    "        return best_strategy(self.fn, self.sol, self.cost, neighbors)"
   ]
  },
  {
   "cell_type": "markdown",
   "id": "bc38049e",
   "metadata": {},
   "source": [
    "Generate an initial solution that only has one object inside the knapsack (the one that has a value of 37). This solution is valid (it does not exceed the 50 maximum capacity limit)."
   ]
  },
  {
   "cell_type": "code",
   "execution_count": 28,
   "id": "faa301f3",
   "metadata": {},
   "outputs": [],
   "source": [
    "init_sol = np.array([0, 0, 0, 1, 0, 0, 0])"
   ]
  },
  {
   "cell_type": "code",
   "execution_count": 29,
   "id": "775ead90",
   "metadata": {
    "scrolled": true
   },
   "outputs": [
    {
     "data": {
      "text/plain": [
       "array([0, 0, 0, 1, 0, 0, 0])"
      ]
     },
     "execution_count": 29,
     "metadata": {},
     "output_type": "execute_result"
    }
   ],
   "source": [
    "init_sol"
   ]
  },
  {
   "cell_type": "markdown",
   "id": "a373d9b2",
   "metadata": {},
   "source": [
    "Now, instantiate the class with the defaults (`first` search strategy)."
   ]
  },
  {
   "cell_type": "code",
   "execution_count": 30,
   "id": "045878d9",
   "metadata": {},
   "outputs": [],
   "source": [
    "knapsack = KnapsackProblem(init_sol=init_sol)"
   ]
  },
  {
   "cell_type": "code",
   "execution_count": 31,
   "id": "f138db5c",
   "metadata": {},
   "outputs": [
    {
     "name": "stdout",
     "output_type": "stream",
     "text": [
      "Iteration: 1 | Current solution cost: -86 | Best solution cost: -86\n",
      "Iteration: 2 | Current solution cost: -96 | Best solution cost: -96\n"
     ]
    }
   ],
   "source": [
    "result = knapsack.run(max_iter=100, history=True, verbose=1)"
   ]
  },
  {
   "cell_type": "code",
   "execution_count": 32,
   "id": "95e0072f",
   "metadata": {},
   "outputs": [
    {
     "data": {
      "text/plain": [
       "ExecutionResult(sol=array([0, 1, 1, 1, 0, 0, 0]), cost=-96, history=[-37, -86, -96])"
      ]
     },
     "execution_count": 32,
     "metadata": {},
     "output_type": "execute_result"
    }
   ],
   "source": [
    "result"
   ]
  },
  {
   "cell_type": "code",
   "execution_count": 33,
   "id": "fb4790a5",
   "metadata": {},
   "outputs": [
    {
     "data": {
      "text/plain": [
       "[<matplotlib.lines.Line2D at 0x122035370>]"
      ]
     },
     "execution_count": 33,
     "metadata": {},
     "output_type": "execute_result"
    },
    {
     "data": {
      "image/png": "[encoded data removed]",
      "text/plain": [
       "<Figure size 640x480 with 1 Axes>"
      ]
     },
     "metadata": {},
     "output_type": "display_data"
    }
   ],
   "source": [
    "plt.plot(result.history)"
   ]
  },
  {
   "cell_type": "markdown",
   "id": "c21eaa27",
   "metadata": {},
   "source": [
    "`LocalSearch` has achieved a minimum of -105 (a maximum of 105). Close, but not the optimum. If we search our strategy to `best`, we can see that the algorithm finds the optimum in the first iteration."
   ]
  }
 ],
 "metadata": {
  "kernelspec": {
   "display_name": "Python 3 (ipykernel)",
   "language": "python",
   "name": "python3"
  },
  "language_info": {
   "codemirror_mode": {
    "name": "ipython",
    "version": 3
   },
   "file_extension": ".py",
   "mimetype": "text/x-python",
   "name": "python",
   "nbconvert_exporter": "python",
   "pygments_lexer": "ipython3",
   "version": "3.9.13"
  }
 },
 "nbformat": 4,
 "nbformat_minor": 5
}
