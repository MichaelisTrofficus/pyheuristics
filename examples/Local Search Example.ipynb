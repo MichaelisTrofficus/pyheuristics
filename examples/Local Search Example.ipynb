{
 "cells": [
  {
   "cell_type": "code",
   "execution_count": 1,
   "id": "36c543f4",
   "metadata": {},
   "outputs": [],
   "source": [
    "from pyheuristics.combinatorial.trajectory.local_search import LocalSearch"
   ]
  },
  {
   "cell_type": "code",
   "execution_count": null,
   "id": "fa9c2c55",
   "metadata": {},
   "outputs": [],
   "source": []
  }
 ],
 "metadata": {
  "kernelspec": {
   "display_name": "Python 3 (ipykernel)",
   "language": "python",
   "name": "python3"
  },
  "language_info": {
   "codemirror_mode": {
    "name": "ipython",
    "version": 3
   },
   "file_extension": ".py",
   "mimetype": "text/x-python",
   "name": "python",
   "nbconvert_exporter": "python",
   "pygments_lexer": "ipython3",
   "version": "3.9.13"
  }
 },
 "nbformat": 4,
 "nbformat_minor": 5
}
